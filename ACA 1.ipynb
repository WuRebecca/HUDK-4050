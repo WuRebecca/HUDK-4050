{
 "cells": [
  {
   "cell_type": "markdown",
   "id": "ad486c77",
   "metadata": {},
   "source": [
    "## Analysis Challenge Assignment 1\n",
    "\n",
    "Group member: Jingxuan Liao, Ruoqi(Mark) Wang, Yuchen(Rebecca) Wu \n",
    "\n",
    "* Data Wrangling Order: \n",
    "1. Safety(Select) \n",
    "    * Crime: filter the top 50th percentile in overall crime. \n",
    "2. Urban(Select) \n",
    "    * Metropolitan \n",
    "3. Quality(Select) \n",
    "    * Average Faculty Salary \n",
    "    * Percentage of full-time Faculty \n",
    "4. Diversity(Exclusion) \n",
    "    * Flag for specific race-only school \n",
    "    * Flag for men-only college/ Flag for women-only college\n"
   ]
  },
  {
   "cell_type": "code",
   "execution_count": 74,
   "id": "740fbab4",
   "metadata": {},
   "outputs": [],
   "source": [
    "import pandas as pd\n",
    "import numpy as np"
   ]
  },
  {
   "cell_type": "code",
   "execution_count": 75,
   "id": "474d07c7",
   "metadata": {},
   "outputs": [
    {
     "name": "stderr",
     "output_type": "stream",
     "text": [
      "/Users/mark/opt/anaconda3/lib/python3.8/site-packages/IPython/core/interactiveshell.py:3165: DtypeWarning: Columns (7,9,1427,1542,1561,1575,1725,1726,1727,1728) have mixed types.Specify dtype option on import or set low_memory=False.\n",
      "  has_raised = await self.run_ast_nodes(code_ast.body, cell_name,\n"
     ]
    }
   ],
   "source": [
    "Score_card = pd.read_csv(\"CollegeScorecard.csv\")\n",
    "Crime_rate = pd.read_csv(\"Crime_2015.csv\")"
   ]
  },
  {
   "cell_type": "markdown",
   "id": "be49120c",
   "metadata": {},
   "source": [
    "We want to combine the two data sets by Cities, so we need to check if the columns names are identical."
   ]
  },
  {
   "cell_type": "code",
   "execution_count": 62,
   "id": "dfc49468",
   "metadata": {},
   "outputs": [
    {
     "name": "stdout",
     "output_type": "stream",
     "text": [
      "Index(['UNITID', 'OPEID', 'opeid6', 'INSTNM', 'CITY', 'STABBR', 'ZIP',\n",
      "       'AccredAgency', 'INSTURL', 'NPCURL', 'sch_deg', 'HCM2', 'main',\n",
      "       'NUMBRANCH', 'PREDDEG', 'HIGHDEG', 'CONTROL', 'st_fips', 'region',\n",
      "       'LOCALE'],\n",
      "      dtype='object')\n",
      "Index(['MSA', 'ViolentCrime', 'Murder', 'Rape', 'Robbery', 'AggravatedAssault',\n",
      "       'PropertyCrime', 'Burglary', 'Theft', 'MotorVehicleTheft', 'State',\n",
      "       'City'],\n",
      "      dtype='object')\n"
     ]
    }
   ],
   "source": [
    "print(Score_card.columns [: 20])\n",
    "print(Crime_rate.columns [:20])"
   ]
  },
  {
   "cell_type": "markdown",
   "id": "29c73423",
   "metadata": {},
   "source": [
    "We can see  that two columns names in different data sets are not identical, so we need to rename one of it. "
   ]
  },
  {
   "cell_type": "code",
   "execution_count": 63,
   "id": "c2e03496",
   "metadata": {},
   "outputs": [],
   "source": [
    "Crime_rate = Crime_rate.rename ({'City':'CITY'}, axis = 1)"
   ]
  },
  {
   "cell_type": "markdown",
   "id": "b896003c",
   "metadata": {},
   "source": [
    "### Data cleaning process: \n",
    "* firstly, we want to combine two data sets \n",
    "* Secondly, we need to extract the information we will analysis\n"
   ]
  },
  {
   "cell_type": "code",
   "execution_count": 64,
   "id": "5c894f96",
   "metadata": {},
   "outputs": [
    {
     "data": {
      "text/plain": [
       "(8687, 1740)"
      ]
     },
     "execution_count": 64,
     "metadata": {},
     "output_type": "execute_result"
    }
   ],
   "source": [
    "mdf = pd.merge(Crime_rate, Score_card, how='right', on='CITY')\n",
    "mdf.shape"
   ]
  },
  {
   "cell_type": "markdown",
   "id": "b530d0e8",
   "metadata": {},
   "source": [
    "We have combined the two data sets. There are 8687 rows (institutions), and 1740 rows."
   ]
  },
  {
   "cell_type": "markdown",
   "id": "7da9793d",
   "metadata": {},
   "source": [
    "Now we want to extract the information we want. We are going to filter institutions by city size, safety of the city, diversity of the school, and quality of the school. "
   ]
  },
  {
   "cell_type": "markdown",
   "id": "e1936691",
   "metadata": {},
   "source": [
    "#### Let's organize the data first. "
   ]
  },
  {
   "cell_type": "markdown",
   "id": "38ae960d",
   "metadata": {},
   "source": [
    "Firstly, We are going to analyze the safety of the city by the number of murder, rape, Robbery, Aggravated Assult, and MotorVehicleTheft. Thus, we can create a column by combining all of them. "
   ]
  },
  {
   "cell_type": "code",
   "execution_count": 65,
   "id": "ddcdd0e9",
   "metadata": {},
   "outputs": [],
   "source": [
    "mdf['Crime_total'] = mdf[\"Murder\"]+mdf['Rape']+mdf['Robbery']+mdf['AggravatedAssault']+mdf['MotorVehicleTheft']"
   ]
  },
  {
   "cell_type": "markdown",
   "id": "02a201b4",
   "metadata": {},
   "source": [
    "Secondly, we are going to analyze the diversity of the school by figuring out if the school has restriction of race.  We discard all the institutions that have religious affiliations, and we only keep the institutions that do not have religious affiliations in our list. Also, we are excluding institutions that consist of predominantly one race, e.g. Flag for Historically Black College and University. Thus, we are going to combine the columns about the school stypes which have restriction on race.  "
   ]
  },
  {
   "cell_type": "code",
   "execution_count": 66,
   "id": "11168776",
   "metadata": {},
   "outputs": [],
   "source": [
    "mdf['Race_score'] = mdf['HBCU'] + mdf['PBI'] + mdf['ANNHI'] + mdf['TRIBAL'] + mdf['AANAPII'] \\\n",
    "+ mdf['HSI'] + mdf['NANTI'] + mdf['MENONLY']+mdf['WOMENONLY']"
   ]
  },
  {
   "cell_type": "markdown",
   "id": "e5931666",
   "metadata": {},
   "source": [
    "Now, we want to extract the data which is useful for our filtering. All our judege is based on Local, Crime_total, average faculty salary, Percentage of full time Faculty, and races, so we extract those first. "
   ]
  },
  {
   "cell_type": "code",
   "execution_count": 67,
   "id": "56b0c93e",
   "metadata": {},
   "outputs": [],
   "source": [
    "newmdf = mdf.filter(['INSTNM', 'CITY','Crime_total','LOCALE','AVGFACSAL', 'PFTFAC', 'Race_score', 'RELAFFIL'], axis=1)"
   ]
  },
  {
   "cell_type": "markdown",
   "id": "8e07ffec",
   "metadata": {},
   "source": [
    "Now, the new dataset(newmdf) contains the types of information that we want to analyze. "
   ]
  },
  {
   "cell_type": "code",
   "execution_count": 68,
   "id": "5e5e55d7",
   "metadata": {},
   "outputs": [
    {
     "data": {
      "text/plain": [
       "(8687, 8)"
      ]
     },
     "execution_count": 68,
     "metadata": {},
     "output_type": "execute_result"
    }
   ],
   "source": [
    "newmdf.shape"
   ]
  },
  {
   "cell_type": "markdown",
   "id": "c903b242",
   "metadata": {},
   "source": [
    "The number of rows is still 8687, but the columns are 8 now. All those 8 columns are the types of information we are going to use to filter. "
   ]
  },
  {
   "cell_type": "markdown",
   "id": "410848b7",
   "metadata": {},
   "source": [
    "#### Data filtering:"
   ]
  },
  {
   "cell_type": "markdown",
   "id": "91939469",
   "metadata": {},
   "source": [
    "Our rubric to filter school is following: \n",
    "\n",
    "* Safety:\n",
    "\n",
    "In order to address Alex’s needs of safety, which is reflected by low crime rate, we ordered all the categories in the crime_2015 dataset, and we only keep the institutions in which the cities are among the lower half of all cities (50%) in all of the crime rate categories.\n",
    "\n",
    "* Urban:\n",
    "\n",
    "In order to address Alex’s expectations to live a big city life, we use the index of “locale of institution”, and we only keep the institutions who are categorized as “City: Large (population of 250,000 or more)” in our list.\n",
    "\n",
    "* Diversity:\n",
    "\n",
    "Race: Flag for Historically Black College and University, predominantly black institution, Flag for Alaska Native Native Hawaiian serving institution, tribal college and university, Asian American Native American Pacific Islander-serving institution, Hispanic-serving institution, and Native American non-tribal institution - we would like to exclude the scholl with the value of \"1\".\n",
    "\n",
    "Gender: Flag for men-only college/Flag for women-only college - exclude school with either value of “1” (Yes)\n",
    "\n",
    "\n",
    "* Quality:\n",
    "\n",
    "Faculty\n",
    "Average Faculty salary - we are only keeping the institutions who are in the higher half among all institutions regarding average faculty salary - we regard this as a reflection of the institutions’ economic strength\n",
    "Proportion of faculty that is full-time - we are only keeping stitutions that are in the higher half of the list regarding proportion of full time faculty - since we think this is a reflection of the institution’s ability to attract faculty, and the stability of the staff\n"
   ]
  },
  {
   "cell_type": "markdown",
   "id": "9e7c8ae5",
   "metadata": {},
   "source": [
    "Now, we need to see the descriptive of the data set in order to set limits to filter. "
   ]
  },
  {
   "cell_type": "code",
   "execution_count": 69,
   "id": "5a244dfe",
   "metadata": {},
   "outputs": [
    {
     "data": {
      "text/html": [
       "<div>\n",
       "<style scoped>\n",
       "    .dataframe tbody tr th:only-of-type {\n",
       "        vertical-align: middle;\n",
       "    }\n",
       "\n",
       "    .dataframe tbody tr th {\n",
       "        vertical-align: top;\n",
       "    }\n",
       "\n",
       "    .dataframe thead th {\n",
       "        text-align: right;\n",
       "    }\n",
       "</style>\n",
       "<table border=\"1\" class=\"dataframe\">\n",
       "  <thead>\n",
       "    <tr style=\"text-align: right;\">\n",
       "      <th></th>\n",
       "      <th>INSTNM</th>\n",
       "      <th>CITY</th>\n",
       "      <th>Crime_total</th>\n",
       "      <th>LOCALE</th>\n",
       "      <th>AVGFACSAL</th>\n",
       "      <th>PFTFAC</th>\n",
       "      <th>Race_score</th>\n",
       "      <th>RELAFFIL</th>\n",
       "    </tr>\n",
       "  </thead>\n",
       "  <tbody>\n",
       "    <tr>\n",
       "      <th>count</th>\n",
       "      <td>8687</td>\n",
       "      <td>8687</td>\n",
       "      <td>4211.000000</td>\n",
       "      <td>8213.000000</td>\n",
       "      <td>5194.000000</td>\n",
       "      <td>4596.000000</td>\n",
       "      <td>8216.000000</td>\n",
       "      <td>1036.000000</td>\n",
       "    </tr>\n",
       "    <tr>\n",
       "      <th>unique</th>\n",
       "      <td>7634</td>\n",
       "      <td>2545</td>\n",
       "      <td>NaN</td>\n",
       "      <td>NaN</td>\n",
       "      <td>NaN</td>\n",
       "      <td>NaN</td>\n",
       "      <td>NaN</td>\n",
       "      <td>NaN</td>\n",
       "    </tr>\n",
       "    <tr>\n",
       "      <th>top</th>\n",
       "      <td>Marinello School of Beauty</td>\n",
       "      <td>Springfield</td>\n",
       "      <td>NaN</td>\n",
       "      <td>NaN</td>\n",
       "      <td>NaN</td>\n",
       "      <td>NaN</td>\n",
       "      <td>NaN</td>\n",
       "      <td>NaN</td>\n",
       "    </tr>\n",
       "    <tr>\n",
       "      <th>freq</th>\n",
       "      <td>14</td>\n",
       "      <td>172</td>\n",
       "      <td>NaN</td>\n",
       "      <td>NaN</td>\n",
       "      <td>NaN</td>\n",
       "      <td>NaN</td>\n",
       "      <td>NaN</td>\n",
       "      <td>NaN</td>\n",
       "    </tr>\n",
       "    <tr>\n",
       "      <th>mean</th>\n",
       "      <td>NaN</td>\n",
       "      <td>NaN</td>\n",
       "      <td>644.002968</td>\n",
       "      <td>19.012541</td>\n",
       "      <td>6004.462457</td>\n",
       "      <td>0.566776</td>\n",
       "      <td>0.060370</td>\n",
       "      <td>54.000965</td>\n",
       "    </tr>\n",
       "    <tr>\n",
       "      <th>std</th>\n",
       "      <td>NaN</td>\n",
       "      <td>NaN</td>\n",
       "      <td>271.460422</td>\n",
       "      <td>9.237607</td>\n",
       "      <td>2259.112032</td>\n",
       "      <td>0.311286</td>\n",
       "      <td>0.242742</td>\n",
       "      <td>20.905192</td>\n",
       "    </tr>\n",
       "    <tr>\n",
       "      <th>min</th>\n",
       "      <td>NaN</td>\n",
       "      <td>NaN</td>\n",
       "      <td>104.500000</td>\n",
       "      <td>11.000000</td>\n",
       "      <td>269.000000</td>\n",
       "      <td>0.000000</td>\n",
       "      <td>0.000000</td>\n",
       "      <td>22.000000</td>\n",
       "    </tr>\n",
       "    <tr>\n",
       "      <th>25%</th>\n",
       "      <td>NaN</td>\n",
       "      <td>NaN</td>\n",
       "      <td>449.700000</td>\n",
       "      <td>11.000000</td>\n",
       "      <td>4452.500000</td>\n",
       "      <td>0.295000</td>\n",
       "      <td>0.000000</td>\n",
       "      <td>30.000000</td>\n",
       "    </tr>\n",
       "    <tr>\n",
       "      <th>50%</th>\n",
       "      <td>NaN</td>\n",
       "      <td>NaN</td>\n",
       "      <td>614.100000</td>\n",
       "      <td>13.000000</td>\n",
       "      <td>5792.000000</td>\n",
       "      <td>0.535700</td>\n",
       "      <td>0.000000</td>\n",
       "      <td>54.000000</td>\n",
       "    </tr>\n",
       "    <tr>\n",
       "      <th>75%</th>\n",
       "      <td>NaN</td>\n",
       "      <td>NaN</td>\n",
       "      <td>821.100000</td>\n",
       "      <td>21.000000</td>\n",
       "      <td>7231.500000</td>\n",
       "      <td>0.875000</td>\n",
       "      <td>0.000000</td>\n",
       "      <td>71.000000</td>\n",
       "    </tr>\n",
       "    <tr>\n",
       "      <th>max</th>\n",
       "      <td>NaN</td>\n",
       "      <td>NaN</td>\n",
       "      <td>1565.200000</td>\n",
       "      <td>43.000000</td>\n",
       "      <td>23611.000000</td>\n",
       "      <td>1.000000</td>\n",
       "      <td>2.000000</td>\n",
       "      <td>103.000000</td>\n",
       "    </tr>\n",
       "  </tbody>\n",
       "</table>\n",
       "</div>"
      ],
      "text/plain": [
       "                            INSTNM         CITY  Crime_total       LOCALE  \\\n",
       "count                         8687         8687  4211.000000  8213.000000   \n",
       "unique                        7634         2545          NaN          NaN   \n",
       "top     Marinello School of Beauty  Springfield          NaN          NaN   \n",
       "freq                            14          172          NaN          NaN   \n",
       "mean                           NaN          NaN   644.002968    19.012541   \n",
       "std                            NaN          NaN   271.460422     9.237607   \n",
       "min                            NaN          NaN   104.500000    11.000000   \n",
       "25%                            NaN          NaN   449.700000    11.000000   \n",
       "50%                            NaN          NaN   614.100000    13.000000   \n",
       "75%                            NaN          NaN   821.100000    21.000000   \n",
       "max                            NaN          NaN  1565.200000    43.000000   \n",
       "\n",
       "           AVGFACSAL       PFTFAC   Race_score     RELAFFIL  \n",
       "count    5194.000000  4596.000000  8216.000000  1036.000000  \n",
       "unique           NaN          NaN          NaN          NaN  \n",
       "top              NaN          NaN          NaN          NaN  \n",
       "freq             NaN          NaN          NaN          NaN  \n",
       "mean     6004.462457     0.566776     0.060370    54.000965  \n",
       "std      2259.112032     0.311286     0.242742    20.905192  \n",
       "min       269.000000     0.000000     0.000000    22.000000  \n",
       "25%      4452.500000     0.295000     0.000000    30.000000  \n",
       "50%      5792.000000     0.535700     0.000000    54.000000  \n",
       "75%      7231.500000     0.875000     0.000000    71.000000  \n",
       "max     23611.000000     1.000000     2.000000   103.000000  "
      ]
     },
     "execution_count": 69,
     "metadata": {},
     "output_type": "execute_result"
    }
   ],
   "source": [
    "newmdf_describe = newmdf.describe(include = 'all')\n",
    "newmdf_describe"
   ]
  },
  {
   "cell_type": "markdown",
   "id": "49d67be9",
   "metadata": {},
   "source": [
    "We now need to define some values with name because this is a way to make the code reproducible. "
   ]
  },
  {
   "cell_type": "code",
   "execution_count": 70,
   "id": "d5c31188",
   "metadata": {},
   "outputs": [],
   "source": [
    "Crime_total_mean = newmdf_describe.loc['mean', 'Crime_total']\n",
    "AVGFACSAL_mean = newmdf_describe.loc['mean', 'AVGFACSAL']\n",
    "PFTFAV_mean = newmdf_describe.loc['mean', 'PFTFAC']\n",
    "Race_score_mean = newmdf_describe.loc['mean', 'Race_score']\n",
    "RELAFFIL_mean = newmdf_describe.loc['mean', 'RELAFFIL']"
   ]
  },
  {
   "cell_type": "markdown",
   "id": "44bbc9f6",
   "metadata": {},
   "source": [
    "We want to get targeted schools for Alex by our rubric. "
   ]
  },
  {
   "cell_type": "code",
   "execution_count": 71,
   "id": "9abf25d3",
   "metadata": {},
   "outputs": [],
   "source": [
    "target_places = (newmdf['Crime_total'] < Crime_total_mean) & (newmdf['LOCALE'] == 11) \\\n",
    "& (newmdf['AVGFACSAL'] > AVGFACSAL_mean) & (newmdf['Race_score'] == 0) & (newmdf['PFTFAC'] > PFTFAV_mean) \\\n",
    "& (newmdf[\"RELAFFIL\"] > RELAFFIL_mean)"
   ]
  },
  {
   "cell_type": "markdown",
   "id": "20562ca0",
   "metadata": {},
   "source": [
    "We can use Race_score == 0 instead of Race_score_mean because according to the data dictionary, we only take the values = 0 under the race category we defined. Thus, the sum of 0 is 0. "
   ]
  },
  {
   "cell_type": "code",
   "execution_count": 72,
   "id": "783878f0",
   "metadata": {},
   "outputs": [
    {
     "data": {
      "text/plain": [
       "(20, 8)"
      ]
     },
     "execution_count": 72,
     "metadata": {},
     "output_type": "execute_result"
    }
   ],
   "source": [
    "newmdf[target_places].shape"
   ]
  },
  {
   "cell_type": "markdown",
   "id": "91ee52df",
   "metadata": {},
   "source": [
    "Now the number schools has been narrowed down to 20 from 8687. "
   ]
  },
  {
   "cell_type": "code",
   "execution_count": 73,
   "id": "ca282701",
   "metadata": {},
   "outputs": [
    {
     "data": {
      "text/html": [
       "<div>\n",
       "<style scoped>\n",
       "    .dataframe tbody tr th:only-of-type {\n",
       "        vertical-align: middle;\n",
       "    }\n",
       "\n",
       "    .dataframe tbody tr th {\n",
       "        vertical-align: top;\n",
       "    }\n",
       "\n",
       "    .dataframe thead th {\n",
       "        text-align: right;\n",
       "    }\n",
       "</style>\n",
       "<table border=\"1\" class=\"dataframe\">\n",
       "  <thead>\n",
       "    <tr style=\"text-align: right;\">\n",
       "      <th></th>\n",
       "      <th>INSTNM</th>\n",
       "      <th>CITY</th>\n",
       "      <th>Crime_total</th>\n",
       "      <th>LOCALE</th>\n",
       "      <th>AVGFACSAL</th>\n",
       "      <th>PFTFAC</th>\n",
       "      <th>Race_score</th>\n",
       "      <th>RELAFFIL</th>\n",
       "    </tr>\n",
       "  </thead>\n",
       "  <tbody>\n",
       "    <tr>\n",
       "      <th>521</th>\n",
       "      <td>Point Loma Nazarene University</td>\n",
       "      <td>San Diego</td>\n",
       "      <td>631.8</td>\n",
       "      <td>11.0</td>\n",
       "      <td>9653.0</td>\n",
       "      <td>1.0000</td>\n",
       "      <td>0.0</td>\n",
       "      <td>59.0</td>\n",
       "    </tr>\n",
       "    <tr>\n",
       "      <th>771</th>\n",
       "      <td>American University</td>\n",
       "      <td>Washington</td>\n",
       "      <td>485.5</td>\n",
       "      <td>11.0</td>\n",
       "      <td>11074.0</td>\n",
       "      <td>0.5764</td>\n",
       "      <td>0.0</td>\n",
       "      <td>71.0</td>\n",
       "    </tr>\n",
       "    <tr>\n",
       "      <th>772</th>\n",
       "      <td>American University</td>\n",
       "      <td>Washington</td>\n",
       "      <td>542.3</td>\n",
       "      <td>11.0</td>\n",
       "      <td>11074.0</td>\n",
       "      <td>0.5764</td>\n",
       "      <td>0.0</td>\n",
       "      <td>71.0</td>\n",
       "    </tr>\n",
       "    <tr>\n",
       "      <th>796</th>\n",
       "      <td>Wesley Theological Seminary</td>\n",
       "      <td>Washington</td>\n",
       "      <td>485.5</td>\n",
       "      <td>11.0</td>\n",
       "      <td>8700.0</td>\n",
       "      <td>0.9583</td>\n",
       "      <td>0.0</td>\n",
       "      <td>71.0</td>\n",
       "    </tr>\n",
       "    <tr>\n",
       "      <th>797</th>\n",
       "      <td>Wesley Theological Seminary</td>\n",
       "      <td>Washington</td>\n",
       "      <td>542.3</td>\n",
       "      <td>11.0</td>\n",
       "      <td>8700.0</td>\n",
       "      <td>0.9583</td>\n",
       "      <td>0.0</td>\n",
       "      <td>71.0</td>\n",
       "    </tr>\n",
       "    <tr>\n",
       "      <th>1148</th>\n",
       "      <td>Chicago Theological Seminary</td>\n",
       "      <td>Chicago</td>\n",
       "      <td>542.4</td>\n",
       "      <td>11.0</td>\n",
       "      <td>7725.0</td>\n",
       "      <td>1.0000</td>\n",
       "      <td>0.0</td>\n",
       "      <td>76.0</td>\n",
       "    </tr>\n",
       "    <tr>\n",
       "      <th>1149</th>\n",
       "      <td>Chicago Theological Seminary</td>\n",
       "      <td>Chicago</td>\n",
       "      <td>614.1</td>\n",
       "      <td>11.0</td>\n",
       "      <td>7725.0</td>\n",
       "      <td>1.0000</td>\n",
       "      <td>0.0</td>\n",
       "      <td>76.0</td>\n",
       "    </tr>\n",
       "    <tr>\n",
       "      <th>1265</th>\n",
       "      <td>McCormick Theological Seminary</td>\n",
       "      <td>Chicago</td>\n",
       "      <td>542.4</td>\n",
       "      <td>11.0</td>\n",
       "      <td>6654.0</td>\n",
       "      <td>1.0000</td>\n",
       "      <td>0.0</td>\n",
       "      <td>66.0</td>\n",
       "    </tr>\n",
       "    <tr>\n",
       "      <th>1266</th>\n",
       "      <td>McCormick Theological Seminary</td>\n",
       "      <td>Chicago</td>\n",
       "      <td>614.1</td>\n",
       "      <td>11.0</td>\n",
       "      <td>6654.0</td>\n",
       "      <td>1.0000</td>\n",
       "      <td>0.0</td>\n",
       "      <td>66.0</td>\n",
       "    </tr>\n",
       "    <tr>\n",
       "      <th>1672</th>\n",
       "      <td>Transylvania University</td>\n",
       "      <td>Lexington</td>\n",
       "      <td>506.6</td>\n",
       "      <td>11.0</td>\n",
       "      <td>8282.0</td>\n",
       "      <td>0.8362</td>\n",
       "      <td>0.0</td>\n",
       "      <td>61.0</td>\n",
       "    </tr>\n",
       "    <tr>\n",
       "      <th>3052</th>\n",
       "      <td>Greensboro College</td>\n",
       "      <td>Greensboro</td>\n",
       "      <td>535.1</td>\n",
       "      <td>11.0</td>\n",
       "      <td>6025.0</td>\n",
       "      <td>1.0000</td>\n",
       "      <td>0.0</td>\n",
       "      <td>71.0</td>\n",
       "    </tr>\n",
       "    <tr>\n",
       "      <th>3053</th>\n",
       "      <td>Guilford College</td>\n",
       "      <td>Greensboro</td>\n",
       "      <td>535.1</td>\n",
       "      <td>11.0</td>\n",
       "      <td>6361.0</td>\n",
       "      <td>0.6378</td>\n",
       "      <td>0.0</td>\n",
       "      <td>65.0</td>\n",
       "    </tr>\n",
       "    <tr>\n",
       "      <th>3795</th>\n",
       "      <td>Pittsburgh Theological Seminary</td>\n",
       "      <td>Pittsburgh</td>\n",
       "      <td>338.6</td>\n",
       "      <td>11.0</td>\n",
       "      <td>9135.0</td>\n",
       "      <td>1.0000</td>\n",
       "      <td>0.0</td>\n",
       "      <td>66.0</td>\n",
       "    </tr>\n",
       "    <tr>\n",
       "      <th>4122</th>\n",
       "      <td>Austin Presbyterian Theological Seminary</td>\n",
       "      <td>Austin</td>\n",
       "      <td>447.9</td>\n",
       "      <td>11.0</td>\n",
       "      <td>8701.0</td>\n",
       "      <td>0.9474</td>\n",
       "      <td>0.0</td>\n",
       "      <td>66.0</td>\n",
       "    </tr>\n",
       "    <tr>\n",
       "      <th>4143</th>\n",
       "      <td>Concordia University-Texas</td>\n",
       "      <td>Austin</td>\n",
       "      <td>447.9</td>\n",
       "      <td>11.0</td>\n",
       "      <td>6269.0</td>\n",
       "      <td>1.0000</td>\n",
       "      <td>0.0</td>\n",
       "      <td>68.0</td>\n",
       "    </tr>\n",
       "    <tr>\n",
       "      <th>4157</th>\n",
       "      <td>Dallas Theological Seminary</td>\n",
       "      <td>Dallas</td>\n",
       "      <td>596.2</td>\n",
       "      <td>11.0</td>\n",
       "      <td>7174.0</td>\n",
       "      <td>1.0000</td>\n",
       "      <td>0.0</td>\n",
       "      <td>88.0</td>\n",
       "    </tr>\n",
       "    <tr>\n",
       "      <th>4158</th>\n",
       "      <td>Dallas Theological Seminary</td>\n",
       "      <td>Dallas</td>\n",
       "      <td>621.2</td>\n",
       "      <td>11.0</td>\n",
       "      <td>7174.0</td>\n",
       "      <td>1.0000</td>\n",
       "      <td>0.0</td>\n",
       "      <td>88.0</td>\n",
       "    </tr>\n",
       "    <tr>\n",
       "      <th>4301</th>\n",
       "      <td>Texas Christian University</td>\n",
       "      <td>Fort Worth</td>\n",
       "      <td>547.4</td>\n",
       "      <td>11.0</td>\n",
       "      <td>10206.0</td>\n",
       "      <td>0.9804</td>\n",
       "      <td>0.0</td>\n",
       "      <td>61.0</td>\n",
       "    </tr>\n",
       "    <tr>\n",
       "      <th>4311</th>\n",
       "      <td>Texas Wesleyan University</td>\n",
       "      <td>Fort Worth</td>\n",
       "      <td>547.4</td>\n",
       "      <td>11.0</td>\n",
       "      <td>6803.0</td>\n",
       "      <td>0.5860</td>\n",
       "      <td>0.0</td>\n",
       "      <td>71.0</td>\n",
       "    </tr>\n",
       "    <tr>\n",
       "      <th>6803</th>\n",
       "      <td>Brite Divinity School</td>\n",
       "      <td>Fort Worth</td>\n",
       "      <td>547.4</td>\n",
       "      <td>11.0</td>\n",
       "      <td>9001.0</td>\n",
       "      <td>1.0000</td>\n",
       "      <td>0.0</td>\n",
       "      <td>61.0</td>\n",
       "    </tr>\n",
       "  </tbody>\n",
       "</table>\n",
       "</div>"
      ],
      "text/plain": [
       "                                        INSTNM        CITY  Crime_total  \\\n",
       "521             Point Loma Nazarene University   San Diego        631.8   \n",
       "771                        American University  Washington        485.5   \n",
       "772                        American University  Washington        542.3   \n",
       "796                Wesley Theological Seminary  Washington        485.5   \n",
       "797                Wesley Theological Seminary  Washington        542.3   \n",
       "1148              Chicago Theological Seminary     Chicago        542.4   \n",
       "1149              Chicago Theological Seminary     Chicago        614.1   \n",
       "1265            McCormick Theological Seminary     Chicago        542.4   \n",
       "1266            McCormick Theological Seminary     Chicago        614.1   \n",
       "1672                   Transylvania University   Lexington        506.6   \n",
       "3052                        Greensboro College  Greensboro        535.1   \n",
       "3053                          Guilford College  Greensboro        535.1   \n",
       "3795           Pittsburgh Theological Seminary  Pittsburgh        338.6   \n",
       "4122  Austin Presbyterian Theological Seminary      Austin        447.9   \n",
       "4143                Concordia University-Texas      Austin        447.9   \n",
       "4157               Dallas Theological Seminary      Dallas        596.2   \n",
       "4158               Dallas Theological Seminary      Dallas        621.2   \n",
       "4301                Texas Christian University  Fort Worth        547.4   \n",
       "4311                 Texas Wesleyan University  Fort Worth        547.4   \n",
       "6803                     Brite Divinity School  Fort Worth        547.4   \n",
       "\n",
       "      LOCALE  AVGFACSAL  PFTFAC  Race_score  RELAFFIL  \n",
       "521     11.0     9653.0  1.0000         0.0      59.0  \n",
       "771     11.0    11074.0  0.5764         0.0      71.0  \n",
       "772     11.0    11074.0  0.5764         0.0      71.0  \n",
       "796     11.0     8700.0  0.9583         0.0      71.0  \n",
       "797     11.0     8700.0  0.9583         0.0      71.0  \n",
       "1148    11.0     7725.0  1.0000         0.0      76.0  \n",
       "1149    11.0     7725.0  1.0000         0.0      76.0  \n",
       "1265    11.0     6654.0  1.0000         0.0      66.0  \n",
       "1266    11.0     6654.0  1.0000         0.0      66.0  \n",
       "1672    11.0     8282.0  0.8362         0.0      61.0  \n",
       "3052    11.0     6025.0  1.0000         0.0      71.0  \n",
       "3053    11.0     6361.0  0.6378         0.0      65.0  \n",
       "3795    11.0     9135.0  1.0000         0.0      66.0  \n",
       "4122    11.0     8701.0  0.9474         0.0      66.0  \n",
       "4143    11.0     6269.0  1.0000         0.0      68.0  \n",
       "4157    11.0     7174.0  1.0000         0.0      88.0  \n",
       "4158    11.0     7174.0  1.0000         0.0      88.0  \n",
       "4301    11.0    10206.0  0.9804         0.0      61.0  \n",
       "4311    11.0     6803.0  0.5860         0.0      71.0  \n",
       "6803    11.0     9001.0  1.0000         0.0      61.0  "
      ]
     },
     "execution_count": 73,
     "metadata": {},
     "output_type": "execute_result"
    }
   ],
   "source": [
    "newmdf[target_places]"
   ]
  },
  {
   "cell_type": "code",
   "execution_count": null,
   "id": "15d5bd4f",
   "metadata": {},
   "outputs": [],
   "source": []
  },
  {
   "cell_type": "code",
   "execution_count": null,
   "id": "084268bd",
   "metadata": {},
   "outputs": [],
   "source": []
  }
 ],
 "metadata": {
  "kernelspec": {
   "display_name": "Python 3",
   "language": "python",
   "name": "python3"
  },
  "language_info": {
   "codemirror_mode": {
    "name": "ipython",
    "version": 3
   },
   "file_extension": ".py",
   "mimetype": "text/x-python",
   "name": "python",
   "nbconvert_exporter": "python",
   "pygments_lexer": "ipython3",
   "version": "3.8.8"
  }
 },
 "nbformat": 4,
 "nbformat_minor": 5
}
